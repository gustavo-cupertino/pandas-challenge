{
 "cells": [
  {
   "cell_type": "markdown",
   "id": "9d229313",
   "metadata": {},
   "source": [
    "# **PyCity Schools Analysis** #"
   ]
  },
  {
   "cell_type": "markdown",
   "id": "fdaa0dbe",
   "metadata": {},
   "source": [
    "Analysis here"
   ]
  },
  {
   "cell_type": "code",
   "execution_count": 1,
   "id": "a08858e1",
   "metadata": {},
   "outputs": [
    {
     "data": {
      "text/html": [
       "<div>\n",
       "<style scoped>\n",
       "    .dataframe tbody tr th:only-of-type {\n",
       "        vertical-align: middle;\n",
       "    }\n",
       "\n",
       "    .dataframe tbody tr th {\n",
       "        vertical-align: top;\n",
       "    }\n",
       "\n",
       "    .dataframe thead th {\n",
       "        text-align: right;\n",
       "    }\n",
       "</style>\n",
       "<table border=\"1\" class=\"dataframe\">\n",
       "  <thead>\n",
       "    <tr style=\"text-align: right;\">\n",
       "      <th></th>\n",
       "      <th>Student ID</th>\n",
       "      <th>student_name</th>\n",
       "      <th>gender</th>\n",
       "      <th>grade</th>\n",
       "      <th>school_name</th>\n",
       "      <th>reading_score</th>\n",
       "      <th>math_score</th>\n",
       "      <th>School ID</th>\n",
       "      <th>type</th>\n",
       "      <th>size</th>\n",
       "      <th>budget</th>\n",
       "    </tr>\n",
       "  </thead>\n",
       "  <tbody>\n",
       "    <tr>\n",
       "      <th>0</th>\n",
       "      <td>0</td>\n",
       "      <td>Paul Bradley</td>\n",
       "      <td>M</td>\n",
       "      <td>9th</td>\n",
       "      <td>Huang High School</td>\n",
       "      <td>66</td>\n",
       "      <td>79</td>\n",
       "      <td>0</td>\n",
       "      <td>District</td>\n",
       "      <td>2917</td>\n",
       "      <td>1910635</td>\n",
       "    </tr>\n",
       "    <tr>\n",
       "      <th>1</th>\n",
       "      <td>1</td>\n",
       "      <td>Victor Smith</td>\n",
       "      <td>M</td>\n",
       "      <td>12th</td>\n",
       "      <td>Huang High School</td>\n",
       "      <td>94</td>\n",
       "      <td>61</td>\n",
       "      <td>0</td>\n",
       "      <td>District</td>\n",
       "      <td>2917</td>\n",
       "      <td>1910635</td>\n",
       "    </tr>\n",
       "    <tr>\n",
       "      <th>2</th>\n",
       "      <td>2</td>\n",
       "      <td>Kevin Rodriguez</td>\n",
       "      <td>M</td>\n",
       "      <td>12th</td>\n",
       "      <td>Huang High School</td>\n",
       "      <td>90</td>\n",
       "      <td>60</td>\n",
       "      <td>0</td>\n",
       "      <td>District</td>\n",
       "      <td>2917</td>\n",
       "      <td>1910635</td>\n",
       "    </tr>\n",
       "    <tr>\n",
       "      <th>3</th>\n",
       "      <td>3</td>\n",
       "      <td>Dr. Richard Scott</td>\n",
       "      <td>M</td>\n",
       "      <td>12th</td>\n",
       "      <td>Huang High School</td>\n",
       "      <td>67</td>\n",
       "      <td>58</td>\n",
       "      <td>0</td>\n",
       "      <td>District</td>\n",
       "      <td>2917</td>\n",
       "      <td>1910635</td>\n",
       "    </tr>\n",
       "    <tr>\n",
       "      <th>4</th>\n",
       "      <td>4</td>\n",
       "      <td>Bonnie Ray</td>\n",
       "      <td>F</td>\n",
       "      <td>9th</td>\n",
       "      <td>Huang High School</td>\n",
       "      <td>97</td>\n",
       "      <td>84</td>\n",
       "      <td>0</td>\n",
       "      <td>District</td>\n",
       "      <td>2917</td>\n",
       "      <td>1910635</td>\n",
       "    </tr>\n",
       "  </tbody>\n",
       "</table>\n",
       "</div>"
      ],
      "text/plain": [
       "   Student ID       student_name gender grade        school_name  \\\n",
       "0           0       Paul Bradley      M   9th  Huang High School   \n",
       "1           1       Victor Smith      M  12th  Huang High School   \n",
       "2           2    Kevin Rodriguez      M  12th  Huang High School   \n",
       "3           3  Dr. Richard Scott      M  12th  Huang High School   \n",
       "4           4         Bonnie Ray      F   9th  Huang High School   \n",
       "\n",
       "   reading_score  math_score  School ID      type  size   budget  \n",
       "0             66          79          0  District  2917  1910635  \n",
       "1             94          61          0  District  2917  1910635  \n",
       "2             90          60          0  District  2917  1910635  \n",
       "3             67          58          0  District  2917  1910635  \n",
       "4             97          84          0  District  2917  1910635  "
      ]
     },
     "execution_count": 1,
     "metadata": {},
     "output_type": "execute_result"
    }
   ],
   "source": [
    "# Dependencies and Setup\n",
    "\n",
    "import pandas as pd\n",
    "\n",
    "# Files to load\n",
    "\n",
    "schools_complete_file = \"Resources/schools_complete.csv\"\n",
    "students_complete_file = \"Resources/students_complete.csv\"\n",
    "\n",
    "# read files and store into Pandas DataFrame \n",
    "\n",
    "school_data = pd.read_csv(schools_complete_file)\n",
    "student_data = pd.read_csv(students_complete_file)\n",
    "\n",
    "# combine the data into a single dataset\n",
    "\n",
    "school_data_complete = pd.merge(student_data, school_data, how='left', on='school_name')\n",
    "school_data_complete.head()\n",
    "\n"
   ]
  },
  {
   "cell_type": "markdown",
   "id": "4a7f8abb",
   "metadata": {},
   "source": [
    "# **District Summary** #"
   ]
  },
  {
   "cell_type": "code",
   "execution_count": 2,
   "id": "565d8839",
   "metadata": {},
   "outputs": [
    {
     "data": {
      "text/plain": [
       "15"
      ]
     },
     "execution_count": 2,
     "metadata": {},
     "output_type": "execute_result"
    }
   ],
   "source": [
    "# Calculate the total number of unique schools\n",
    "\n",
    "school_count = len(school_data_complete[\"school_name\"].unique())\n",
    "school_count"
   ]
  },
  {
   "cell_type": "code",
   "execution_count": 3,
   "id": "5b67d9fa",
   "metadata": {},
   "outputs": [
    {
     "data": {
      "text/plain": [
       "39170"
      ]
     },
     "execution_count": 3,
     "metadata": {},
     "output_type": "execute_result"
    }
   ],
   "source": [
    "# Total students\n",
    "\n",
    "student_count = school_data_complete[\"student_name\"].count()\n",
    "student_count"
   ]
  },
  {
   "cell_type": "code",
   "execution_count": 4,
   "id": "8c055f84",
   "metadata": {},
   "outputs": [
    {
     "data": {
      "text/plain": [
       "24649428"
      ]
     },
     "execution_count": 4,
     "metadata": {},
     "output_type": "execute_result"
    }
   ],
   "source": [
    "# Total budget\n",
    "\n",
    "total_budget = school_data_complete[[\"school_name\",\"budget\"]]\n",
    "grouped_budget = total_budget.groupby([\"school_name\"])\n",
    "total_budget = int(grouped_budget.mean().sum())\n",
    "total_budget"
   ]
  },
  {
   "cell_type": "code",
   "execution_count": 5,
   "id": "401140de",
   "metadata": {},
   "outputs": [
    {
     "data": {
      "text/plain": [
       "78.98537145774827"
      ]
     },
     "execution_count": 5,
     "metadata": {},
     "output_type": "execute_result"
    }
   ],
   "source": [
    "# Average math score\n",
    "average_math_score = school_data_complete[\"math_score\"].mean()\n",
    "average_math_score"
   ]
  },
  {
   "cell_type": "code",
   "execution_count": 6,
   "id": "e1748e05",
   "metadata": {},
   "outputs": [
    {
     "data": {
      "text/plain": [
       "81.87784018381414"
      ]
     },
     "execution_count": 6,
     "metadata": {},
     "output_type": "execute_result"
    }
   ],
   "source": [
    "# Average reading score\n",
    "\n",
    "average_reading_score = school_data_complete[\"reading_score\"].mean()\n",
    "average_reading_score"
   ]
  },
  {
   "cell_type": "code",
   "execution_count": 7,
   "id": "a53500b9",
   "metadata": {},
   "outputs": [
    {
     "data": {
      "text/plain": [
       "74.9808526933878"
      ]
     },
     "execution_count": 7,
     "metadata": {},
     "output_type": "execute_result"
    }
   ],
   "source": [
    "# % passing math (the percentage of students who passed math)\n",
    "\n",
    "passing_math_count = school_data_complete[(school_data_complete[\"math_score\"] >= 70)].count()[\"student_name\"]\n",
    "passing_math_percentage = passing_math_count / float(student_count) * 100\n",
    "passing_math_percentage"
   ]
  },
  {
   "cell_type": "code",
   "execution_count": 8,
   "id": "61c36f78",
   "metadata": {},
   "outputs": [
    {
     "data": {
      "text/plain": [
       "85.80546336482001"
      ]
     },
     "execution_count": 8,
     "metadata": {},
     "output_type": "execute_result"
    }
   ],
   "source": [
    "# Calculate the percentage of students who passeed reading (hint: look at how the math percentage was calculated)  \n",
    "passing_reading_count = school_data_complete[(school_data_complete[\"reading_score\"] >= 70)].count()[\"student_name\"]\n",
    "passing_reading_percentage = passing_reading_count / float(student_count) * 100\n",
    "passing_reading_percentage"
   ]
  },
  {
   "cell_type": "code",
   "execution_count": 9,
   "id": "f50f348c",
   "metadata": {},
   "outputs": [
    {
     "data": {
      "text/plain": [
       "85.80546336482001"
      ]
     },
     "execution_count": 9,
     "metadata": {},
     "output_type": "execute_result"
    }
   ],
   "source": [
    "# % passing reading (the percentage of students who passed reading)\n",
    "\n",
    "passing_reading_count = school_data_complete[(school_data_complete[\"reading_score\"] >= 70)].count()[\"student_name\"]\n",
    "passing_reading_percentage = passing_reading_count / float(student_count) * 100\n",
    "passing_reading_percentage"
   ]
  },
  {
   "cell_type": "code",
   "execution_count": 10,
   "id": "0be09594",
   "metadata": {},
   "outputs": [
    {
     "data": {
      "text/plain": [
       "65.17232575950983"
      ]
     },
     "execution_count": 10,
     "metadata": {},
     "output_type": "execute_result"
    }
   ],
   "source": [
    "# % overall passing (the percentage of students who passed math AND reading)\n",
    "\n",
    "passing_math_reading_count = school_data_complete[(school_data_complete[\"math_score\"] >= 70) \\\n",
    "                                                    & (school_data_complete[\"reading_score\"] >= 70)].count()[\"student_name\"]\n",
    "\n",
    "overall_passing_rate = passing_math_reading_count /  float(student_count) * 100\n",
    "overall_passing_rate"
   ]
  },
  {
   "cell_type": "code",
   "execution_count": 11,
   "id": "03c4438f",
   "metadata": {},
   "outputs": [
    {
     "data": {
      "text/html": [
       "<div>\n",
       "<style scoped>\n",
       "    .dataframe tbody tr th:only-of-type {\n",
       "        vertical-align: middle;\n",
       "    }\n",
       "\n",
       "    .dataframe tbody tr th {\n",
       "        vertical-align: top;\n",
       "    }\n",
       "\n",
       "    .dataframe thead th {\n",
       "        text-align: right;\n",
       "    }\n",
       "</style>\n",
       "<table border=\"1\" class=\"dataframe\">\n",
       "  <thead>\n",
       "    <tr style=\"text-align: right;\">\n",
       "      <th></th>\n",
       "      <th>Total schools</th>\n",
       "      <th>Total students</th>\n",
       "      <th>Total Budget</th>\n",
       "      <th>Average Math Score</th>\n",
       "      <th>Average Reading Score</th>\n",
       "      <th>% Passing Math</th>\n",
       "      <th>% Passing Reading</th>\n",
       "      <th>% Overall Passing</th>\n",
       "    </tr>\n",
       "  </thead>\n",
       "  <tbody>\n",
       "    <tr>\n",
       "      <th>0</th>\n",
       "      <td>15</td>\n",
       "      <td>39,170</td>\n",
       "      <td>$24,649,428.00</td>\n",
       "      <td>78.985371</td>\n",
       "      <td>81.87784</td>\n",
       "      <td>74.980853</td>\n",
       "      <td>85.805463</td>\n",
       "      <td>65.172326</td>\n",
       "    </tr>\n",
       "  </tbody>\n",
       "</table>\n",
       "</div>"
      ],
      "text/plain": [
       "   Total schools Total students    Total Budget  Average Math Score  \\\n",
       "0             15         39,170  $24,649,428.00           78.985371   \n",
       "\n",
       "   Average Reading Score  % Passing Math  % Passing Reading  % Overall Passing  \n",
       "0               81.87784       74.980853          85.805463          65.172326  "
      ]
     },
     "execution_count": 11,
     "metadata": {},
     "output_type": "execute_result"
    }
   ],
   "source": [
    "# snapshot of the district's key metrics in a DataFrame\n",
    "\n",
    "summary_dict = {\"Total schools\": [school_count], \\\n",
    "                \"Total students\": [student_count], \\\n",
    "                \"Total Budget\": [total_budget], \\\n",
    "                \"Average Math Score\": [average_math_score], \\\n",
    "                \"Average Reading Score\": [average_reading_score], \\\n",
    "                \"% Passing Math\": [passing_math_percentage],\\\n",
    "                \"% Passing Reading\": [passing_reading_percentage], \\\n",
    "                \"% Overall Passing\": [overall_passing_rate]}\n",
    "\n",
    "district_summary = pd.DataFrame(data=summary_dict)\n",
    "\n",
    "# Formatting\n",
    "district_summary[\"Total students\"] = district_summary[\"Total students\"].map(\"{:,}\".format)\n",
    "district_summary[\"Total Budget\"] = district_summary[\"Total Budget\"].map(\"${:,.2f}\".format)\n",
    "\n",
    "# Display the DataFrame\n",
    "\n",
    "district_summary"
   ]
  },
  {
   "cell_type": "markdown",
   "id": "609566a8",
   "metadata": {},
   "source": [
    "# **School Summary** #"
   ]
  },
  {
   "cell_type": "markdown",
   "id": "ba77d423",
   "metadata": {},
   "source": []
  },
  {
   "cell_type": "code",
   "execution_count": null,
   "id": "56a2d05d",
   "metadata": {},
   "outputs": [],
   "source": [
    "# Use the code provided to select the school type\n",
    "school_types = school_data.set_index([\"school_name\"])[\"type\"]\n",
    "school_types"
   ]
  },
  {
   "cell_type": "code",
   "execution_count": null,
   "id": "0540a5a6",
   "metadata": {},
   "outputs": [],
   "source": [
    "# Calculate the total student count\n",
    "per_school_counts = school_data[\"size\"]\n",
    "per_school_counts"
   ]
  },
  {
   "cell_type": "code",
   "execution_count": null,
   "id": "7e7daebd",
   "metadata": {},
   "outputs": [],
   "source": [
    "# Calculate the total school budget and per capita spending\n",
    "per_school_budget = school_data[\"budget\"]\n",
    "per_school_budget"
   ]
  },
  {
   "cell_type": "code",
   "execution_count": null,
   "id": "0892474f",
   "metadata": {},
   "outputs": [],
   "source": [
    "# Per student budget\n",
    "\n",
    "per_student_budget = school_data[\"per_student_budget\"] = school_data[\"budget\"] / per_school_counts\n",
    "per_student_budget\n"
   ]
  },
  {
   "cell_type": "code",
   "execution_count": null,
   "id": "dcf464a6",
   "metadata": {},
   "outputs": [],
   "source": [
    "student_data"
   ]
  },
  {
   "cell_type": "code",
   "execution_count": null,
   "id": "507c9bd7",
   "metadata": {},
   "outputs": [],
   "source": [
    "#average test score per school\n",
    "\n",
    "average_test_score = student_data.groupby([\"school_name\"])\n",
    "average_test_score = pd.DataFrame(average_test_score.mean())\n",
    "average_test_score\n",
    "average_test_score = average_test_score[[\"reading_score\",\"math_score\"]]\n",
    "average_test_score.reset_index()\n",
    "average_test_score = average_test_score.rename(columns={\"reading_score\":\"average_reading_score\",\"math_score\":\"average_math_score\"})\n",
    "average_test_score\n",
    "\n"
   ]
  },
  {
   "cell_type": "code",
   "execution_count": null,
   "id": "70bcbbe5",
   "metadata": {},
   "outputs": [],
   "source": [
    "summary_1 = pd.merge(school_data, average_test_score, how='outer', on='school_name')\n",
    "summary_1"
   ]
  },
  {
   "cell_type": "code",
   "execution_count": null,
   "id": "eefd371e",
   "metadata": {},
   "outputs": [],
   "source": [
    "# math passing_rate \n",
    "\n",
    "math_passing_rate_per_school = student_data[[\"school_name\",\"grade\",\"student_name\",\"math_score\"]]\n",
    "math_passing_rate_per_school = math_passing_rate_per_school.loc[(student_data[\"math_score\"]>69), :]\n",
    "math_passing_rate_per_school = math_passing_rate_per_school.groupby([\"school_name\"])\n",
    "math_passing_rate_per_school = pd.DataFrame(math_passing_rate_per_school[\"math_score\"].count())\n",
    "math_passing_rate_per_school = math_passing_rate_per_school.rename(columns={\"math_score\":\"passed_math\"})\n",
    "math_passing_rate_per_school\n",
    "\n",
    "\n",
    "# passing_math_percentage = passing_math_count / float(student_count) * 100\n",
    "# passing_math_percentage\n"
   ]
  },
  {
   "cell_type": "code",
   "execution_count": null,
   "id": "5d4ad72b",
   "metadata": {},
   "outputs": [],
   "source": []
  },
  {
   "cell_type": "code",
   "execution_count": null,
   "id": "eeeb0e8c",
   "metadata": {},
   "outputs": [],
   "source": [
    "# reading passing_rate \n",
    "\n",
    "reading_passing_rate_per_school = student_data[[\"school_name\",\"grade\",\"student_name\",\"reading_score\"]]\n",
    "reading_passing_rate_per_school = reading_passing_rate_per_school.loc[(student_data[\"reading_score\"]>69), :]\n",
    "reading_passing_rate_per_school = reading_passing_rate_per_school.groupby([\"school_name\"])\n",
    "reading_passing_rate_per_school = pd.DataFrame(reading_passing_rate_per_school[\"reading_score\"].count())\n",
    "reading_passing_rate_per_school = reading_passing_rate_per_school.rename(columns={\"reading_score\":\"passed_reading\"})\n",
    "reading_passing_rate_per_school\n",
    "\n",
    "\n",
    "# passing_math_percentage = passing_math_count / float(student_count) * 100\n",
    "# passing_math_percentage"
   ]
  },
  {
   "cell_type": "code",
   "execution_count": null,
   "id": "4d4d370b",
   "metadata": {},
   "outputs": [],
   "source": [
    "# both passing_rate \n",
    "\n",
    "both_passing_rate_per_school = student_data[[\"school_name\",\"grade\",\"student_name\",\"reading_score\", \"math_score\"]]\n",
    "both_passing_rate_per_school = both_passing_rate_per_school.loc[((student_data[\"reading_score\"]>69) & (student_data[\"math_score\"]>69)) , :]\n",
    "both_passing_rate_per_school = both_passing_rate_per_school.groupby([\"school_name\"])\n",
    "both_passing_rate_per_school = pd.DataFrame(both_passing_rate_per_school[\"student_name\"].count())\n",
    "both_passing_rate_per_school = both_passing_rate_per_school.rename(columns={\"student_name\":\"passed_both\"})\n",
    "both_passing_rate_per_school\n",
    "\n",
    "\n",
    "# passing_math_percentage = passing_math_count / float(student_count) * 100\n",
    "# passing_math_percentage"
   ]
  },
  {
   "cell_type": "code",
   "execution_count": null,
   "id": "c2654115",
   "metadata": {},
   "outputs": [],
   "source": [
    "passed_merged = pd.merge(math_passing_rate_per_school, reading_passing_rate_per_school, how=\"outer\", on=\"school_name\")\n",
    "passed_merged\n"
   ]
  },
  {
   "cell_type": "code",
   "execution_count": null,
   "id": "73e37535",
   "metadata": {},
   "outputs": [],
   "source": [
    "passed_both_merged = pd.merge(passed_merged, both_passing_rate_per_school, how=\"outer\", on=\"school_name\")\n",
    "passed_both_merged"
   ]
  },
  {
   "cell_type": "code",
   "execution_count": null,
   "id": "ccbce732",
   "metadata": {},
   "outputs": [],
   "source": [
    "summary_2 = pd.merge(summary_1, passed_both_merged, how=\"outer\", on=\"school_name\")\n",
    "summary_2\n"
   ]
  },
  {
   "cell_type": "code",
   "execution_count": null,
   "id": "bd33068c",
   "metadata": {},
   "outputs": [],
   "source": [
    "summary_2[\"% Passing Math\"] = summary_2[\"passed_math\"] * 100 / summary_2[\"size\"]\n",
    "summary_2[\"% Passing Math\"]\n",
    "\n"
   ]
  },
  {
   "cell_type": "code",
   "execution_count": null,
   "id": "3670e967",
   "metadata": {},
   "outputs": [],
   "source": [
    "summary_2[\"% Passing Reading\"] = summary_2[\"passed_reading\"] * 100 / summary_2[\"size\"]\n",
    "summary_2[\"% Passing Reading\"]"
   ]
  },
  {
   "cell_type": "code",
   "execution_count": null,
   "id": "5415d615",
   "metadata": {},
   "outputs": [],
   "source": [
    "summary_2[\"% Overall Passing\"] = summary_2[\"passed_both\"] * 100 / summary_2[\"size\"]\n",
    "summary_2[\"% Overall Passing\"]"
   ]
  },
  {
   "cell_type": "code",
   "execution_count": null,
   "id": "ab1c13cb",
   "metadata": {},
   "outputs": [],
   "source": [
    "summary_2 = summary_2[[\"school_name\",\"type\",\"size\",\"budget\",\"per_student_budget\",\"average_math_score\",\"average_reading_score\",\"% Passing Math\",\"% Passing Reading\",\"% Overall Passing\"]]"
   ]
  },
  {
   "cell_type": "code",
   "execution_count": null,
   "id": "95e893cc",
   "metadata": {},
   "outputs": [],
   "source": [
    "school_snapshot = summary_2.rename(columns={\"school_name\":\"School\",\"type\":\"School Type\",\"size\":\"Total Students\",\"budget\":\"Total School Budget\",\"per_student_budget\":\"Per Student Budget\",\"average_math_score\":\"Average Math Score\",\"average_reading_score\":\"Average Reading Score\"})"
   ]
  },
  {
   "cell_type": "code",
   "execution_count": null,
   "id": "91e7495e",
   "metadata": {},
   "outputs": [],
   "source": [
    "school_snapshot_formated = school_snapshot.set_index([\"School\"]).sort_values([\"School\"])\n",
    "\n",
    "# Formatting\n",
    "school_snapshot_formated[\"Total Students\"] = school_snapshot_formated[\"Total Students\"].map(\"{:,}\".format)\n",
    "school_snapshot_formated[\"Total School Budget\"] = school_snapshot_formated[\"Total School Budget\"].map(\"${:,.2f}\".format)\n",
    "school_snapshot_formated[\"Per Student Budget\"] = school_snapshot_formated[\"Per Student Budget\"].map(\"${:,.2f}\".format)\n",
    "\n",
    "# Display the DataFrame\n",
    "\n",
    "school_snapshot_formated\n",
    "\n"
   ]
  },
  {
   "cell_type": "code",
   "execution_count": null,
   "id": "8dad06e0",
   "metadata": {},
   "outputs": [],
   "source": [
    "school_snapshot.dtypes"
   ]
  },
  {
   "cell_type": "markdown",
   "id": "1bbdf198",
   "metadata": {},
   "source": [
    "## Highest-Performing Schools (by % Overall Passing)"
   ]
  },
  {
   "cell_type": "code",
   "execution_count": null,
   "id": "c5e611c2",
   "metadata": {},
   "outputs": [],
   "source": [
    "school_snapshot.sort_values([\"% Overall Passing\"], ascending=False).reset_index(drop=True).head(5)\n"
   ]
  },
  {
   "cell_type": "markdown",
   "id": "1631fbe5",
   "metadata": {},
   "source": [
    "## Bottom Performing Schools (By % Overall Passing)"
   ]
  },
  {
   "cell_type": "code",
   "execution_count": null,
   "id": "06a22b34",
   "metadata": {},
   "outputs": [],
   "source": [
    "school_snapshot.sort_values([\"% Overall Passing\"]).reset_index(drop=True).head(5)\n"
   ]
  },
  {
   "cell_type": "markdown",
   "id": "c56fc54a",
   "metadata": {},
   "source": [
    "## Math Scores by Grade"
   ]
  },
  {
   "cell_type": "code",
   "execution_count": null,
   "id": "9130d543",
   "metadata": {},
   "outputs": [],
   "source": [
    "school_data_complete.head(15)\n"
   ]
  },
  {
   "cell_type": "code",
   "execution_count": null,
   "id": "ae425405",
   "metadata": {},
   "outputs": [],
   "source": [
    "# Group by \"school_name\" and take the mean of each.\n",
    "\n",
    "ninth_graders_scores = school_data_complete.loc[(school_data_complete[\"grade\"] == \"9th\"), :]\n",
    "tenth_graders_scores = school_data_complete.loc[(school_data_complete[\"grade\"] == \"10th\"), :]\n",
    "eleventh_graders_scores = school_data_complete.loc[(school_data_complete[\"grade\"] == \"11th\"), :]\n",
    "twelfth_graders_scores = school_data_complete.loc[(school_data_complete[\"grade\"] == \"12th\"), :]\n",
    "\n"
   ]
  },
  {
   "cell_type": "code",
   "execution_count": null,
   "id": "2c20c886",
   "metadata": {},
   "outputs": [],
   "source": [
    "# Use the code to select only the `math_score`.\n",
    "ninth_grade_math_scores = ninth_graders_scores[\"math_score\"]\n",
    "tenth_grader_math_scores = tenth_graders_scores[\"math_score\"]\n",
    "eleventh_grader_math_scores = eleventh_graders_scores[\"math_score\"]\n",
    "twelfth_grader_math_scores = twelfth_graders_scores[\"math_score\"]\n"
   ]
  },
  {
   "cell_type": "code",
   "execution_count": null,
   "id": "929f7010",
   "metadata": {},
   "outputs": [],
   "source": [
    "# Combine each of the scores above into single DataFrame called `math_scores_by_grade`\n",
    "\n",
    "\n",
    "school_data_complete[\"9th\"] = ninth_grade_math_scores\n",
    "school_data_complete[\"10th\"] = tenth_grader_math_scores\n",
    "school_data_complete[\"11th\"] = eleventh_grader_math_scores\n",
    "school_data_complete[\"12th\"] = twelfth_grader_math_scores\n",
    "\n",
    "math_scores_by_grade = pd.DataFrame(school_data_complete.groupby([\"school_name\"]).mean())"
   ]
  },
  {
   "cell_type": "code",
   "execution_count": null,
   "id": "1dd4463c",
   "metadata": {},
   "outputs": [],
   "source": [
    "math_scores_by_grade = math_scores_by_grade[[\"9th\",\"10th\",\"11th\",\"12th\"]]"
   ]
  },
  {
   "cell_type": "code",
   "execution_count": null,
   "id": "91f35edf",
   "metadata": {},
   "outputs": [],
   "source": [
    "# Minor data wrangling\n",
    "math_scores_by_grade.index.name = None\n"
   ]
  },
  {
   "cell_type": "code",
   "execution_count": null,
   "id": "71c185df",
   "metadata": {},
   "outputs": [],
   "source": [
    "# Display the DataFrame\n",
    "math_scores_by_grade"
   ]
  },
  {
   "cell_type": "markdown",
   "id": "cb07603c",
   "metadata": {},
   "source": [
    "## Reading Score by Grade \n"
   ]
  },
  {
   "cell_type": "code",
   "execution_count": null,
   "id": "8d9d20ac",
   "metadata": {},
   "outputs": [],
   "source": [
    "# Group by \"school_name\" and take the mean of each.\n",
    "ninth_graders_scores = school_data_complete.loc[(school_data_complete[\"grade\"] == \"9th\"), :]\n",
    "tenth_graders_scores = school_data_complete.loc[(school_data_complete[\"grade\"] == \"10th\"), :]\n",
    "eleventh_graders_scores = school_data_complete.loc[(school_data_complete[\"grade\"] == \"11th\"), :]\n",
    "twelfth_graders_scores = school_data_complete.loc[(school_data_complete[\"grade\"] == \"12th\"), :]\n",
    "\n",
    "# Use the code to select only the `reading_score`.\n",
    "ninth_grade_reading_scores = ninth_graders_scores[\"reading_score\"]\n",
    "tenth_grader_reading_scores = tenth_graders_scores[\"reading_score\"]\n",
    "eleventh_grader_reading_scores = eleventh_graders_scores[\"reading_score\"]\n",
    "twelfth_grader_reading_scores = twelfth_graders_scores[\"reading_score\"]\n",
    "\n",
    "# Combine each of the scores above into single DataFrame called `reading_scores_by_grade`\n",
    "\n",
    "school_data_complete[\"9th\"] = ninth_grade_reading_scores\n",
    "school_data_complete[\"10th\"] = tenth_grader_reading_scores\n",
    "school_data_complete[\"11th\"] = eleventh_grader_reading_scores\n",
    "school_data_complete[\"12th\"] = twelfth_grader_reading_scores\n",
    "\n",
    "reading_scores_by_grade = pd.DataFrame(school_data_complete.groupby([\"school_name\"]).mean())\n",
    "\n",
    "\n",
    "# Minor data wrangling\n",
    "reading_scores_by_grade = reading_scores_by_grade[[\"9th\", \"10th\", \"11th\", \"12th\"]]\n",
    "reading_scores_by_grade.index.name = None\n",
    "\n",
    "# Display the DataFrame\n",
    "reading_scores_by_grade\n"
   ]
  },
  {
   "cell_type": "markdown",
   "id": "332c773c",
   "metadata": {},
   "source": [
    "## Scores by School Spending"
   ]
  },
  {
   "cell_type": "code",
   "execution_count": null,
   "id": "838d5d29",
   "metadata": {},
   "outputs": [],
   "source": [
    "# Establish the bins \n",
    "bins = [0, 585, 630, 645, 680]\n",
    "labels = [\"<$585\", \"$585-630\", \"$630-645\", \"$645-680\"]\n"
   ]
  },
  {
   "cell_type": "code",
   "execution_count": null,
   "id": "226d0506",
   "metadata": {},
   "outputs": [],
   "source": [
    "# Create a copy of the school summary since it has the \"Per Student Budget\" \n",
    "school_spending_df = school_snapshot.copy()"
   ]
  },
  {
   "cell_type": "code",
   "execution_count": null,
   "id": "ab71231d",
   "metadata": {},
   "outputs": [],
   "source": [
    "# Use `pd.cut` to categorize spending based on the bins.\n",
    "school_spending_df[\"Spending Ranges (Per Student)\"] = pd.cut(school_spending_df[\"Per Student Budget\"], bins, labels=labels, include_lowest=True)"
   ]
  },
  {
   "cell_type": "code",
   "execution_count": null,
   "id": "65ffe73d",
   "metadata": {},
   "outputs": [],
   "source": [
    "school_spending_df.sort_values([\"School\"]).set_index([\"School\"])"
   ]
  },
  {
   "cell_type": "code",
   "execution_count": null,
   "id": "6ac22daf",
   "metadata": {},
   "outputs": [],
   "source": [
    "#  Calculate averages for the desired columns. \n",
    "spending_math_scores = school_spending_df.groupby([\"Spending Ranges (Per Student)\"]).mean()[\"Average Math Score\"]\n",
    "spending_reading_scores = school_spending_df.groupby([\"Spending Ranges (Per Student)\"]).mean()[\"Average Reading Score\"]\n",
    "spending_passing_math = school_spending_df.groupby([\"Spending Ranges (Per Student)\"]).mean()[\"% Passing Math\"]\n",
    "spending_passing_reading = school_spending_df.groupby([\"Spending Ranges (Per Student)\"]).mean()[\"% Passing Reading\"]\n",
    "overall_passing_spending = school_spending_df.groupby([\"Spending Ranges (Per Student)\"]).mean()[\"% Overall Passing\"]"
   ]
  },
  {
   "cell_type": "code",
   "execution_count": null,
   "id": "2d211b3f",
   "metadata": {},
   "outputs": [],
   "source": [
    "# Assemble into DataFrame\n",
    "\n",
    "spending_summary = school_spending_df[[\"Spending Ranges (Per Student)\",\"Average Math Score\",\"Average Reading Score\",\"% Passing Math\",\"% Passing Reading\",\"% Overall Passing\"]].set_index([\"Spending Ranges (Per Student)\"])\n",
    "\n",
    "# Display results\n",
    "spending_summary.sort_values([\"Spending Ranges (Per Student)\"]).groupby([\"Spending Ranges (Per Student)\"]).mean()"
   ]
  },
  {
   "cell_type": "markdown",
   "id": "d46aa913",
   "metadata": {},
   "source": [
    "## Scores by School Size"
   ]
  },
  {
   "cell_type": "code",
   "execution_count": null,
   "id": "783a9b1b",
   "metadata": {},
   "outputs": [],
   "source": [
    "# Establish the bins.\n",
    "size_bins = [0, 1000, 2000, 5000]\n",
    "labels = [\"Small (<1000)\", \"Medium (1000-2000)\", \"Large (2000-5000)\"]"
   ]
  },
  {
   "cell_type": "code",
   "execution_count": null,
   "id": "e6b92600",
   "metadata": {},
   "outputs": [],
   "source": [
    "per_school_summary = school_snapshot.copy()\n",
    "# school_size_df.dtypes"
   ]
  },
  {
   "cell_type": "code",
   "execution_count": null,
   "id": "8be165cb",
   "metadata": {},
   "outputs": [],
   "source": [
    "# Categorize the spending based on the bins\n",
    "# Use `pd.cut` on the \"Total Students\" column of the `per_school_summary` DataFrame.\n",
    "\n",
    "per_school_summary[\"School Size\"] = pd.cut(per_school_summary[\"Total Students\"], size_bins, labels=labels, include_lowest=True)"
   ]
  },
  {
   "cell_type": "code",
   "execution_count": null,
   "id": "cf0fc400",
   "metadata": {},
   "outputs": [],
   "source": [
    "per_school_summary = per_school_summary.sort_values([\"School\"]).set_index([\"School\"])\n",
    "\n",
    "per_school_summary"
   ]
  },
  {
   "cell_type": "code",
   "execution_count": null,
   "id": "2bbf4f49",
   "metadata": {},
   "outputs": [],
   "source": [
    "# Formatting\n",
    "per_school_summary[\"Total Students\"] = per_school_summary[\"Total Students\"].map(\"{:,}\".format)\n",
    "per_school_summary[\"Total School Budget\"] = per_school_summary[\"Total School Budget\"].map(\"${:,.2f}\".format)\n",
    "per_school_summary[\"Per Student Budget\"] = per_school_summary[\"Per Student Budget\"].map(\"${:,.2f}\".format)\n",
    "\n",
    "# Display the DataFrame\n",
    "\n",
    "per_school_summary"
   ]
  },
  {
   "cell_type": "markdown",
   "id": "0f82d233",
   "metadata": {},
   "source": [
    "## Scores by School Type"
   ]
  },
  {
   "cell_type": "code",
   "execution_count": null,
   "id": "eb6c72b5",
   "metadata": {},
   "outputs": [],
   "source": [
    "# Group the per_school_summary DataFrame by \"School Type\" and average the results.\n",
    "\n",
    "type_summary = per_school_summary.groupby([\"School Type\"]).mean()"
   ]
  },
  {
   "cell_type": "code",
   "execution_count": null,
   "id": "9827a316",
   "metadata": {},
   "outputs": [],
   "source": [
    "#Display results\n",
    "\n",
    "type_summary"
   ]
  },
  {
   "cell_type": "code",
   "execution_count": null,
   "id": "8b97437a",
   "metadata": {},
   "outputs": [],
   "source": []
  },
  {
   "cell_type": "code",
   "execution_count": null,
   "id": "79963d7b",
   "metadata": {},
   "outputs": [],
   "source": []
  }
 ],
 "metadata": {
  "kernelspec": {
   "display_name": "PythonData",
   "language": "python",
   "name": "pythondata"
  },
  "language_info": {
   "codemirror_mode": {
    "name": "ipython",
    "version": 3
   },
   "file_extension": ".py",
   "mimetype": "text/x-python",
   "name": "python",
   "nbconvert_exporter": "python",
   "pygments_lexer": "ipython3",
   "version": "3.7.7"
  }
 },
 "nbformat": 4,
 "nbformat_minor": 5
}
